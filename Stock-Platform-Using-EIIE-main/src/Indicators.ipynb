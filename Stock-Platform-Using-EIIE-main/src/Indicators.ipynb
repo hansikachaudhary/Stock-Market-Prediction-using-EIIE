{
 "cells": [
  {
   "cell_type": "code",
   "execution_count": 12,
   "id": "1c616d06-57dd-47d3-aee6-23fd29dbafff",
   "metadata": {},
   "outputs": [
    {
     "name": "stdout",
     "output_type": "stream",
     "text": [
      "Processing: AMZN.csv\n",
      "✅ Saved: data_processed\\AMZN.csv\n",
      "Processing: GOOGL.csv\n",
      "✅ Saved: data_processed\\GOOGL.csv\n",
      "Processing: JPM.csv\n",
      "✅ Saved: data_processed\\JPM.csv\n",
      "Processing: META.csv\n",
      "✅ Saved: data_processed\\META.csv\n",
      "Processing: MSFT.csv\n",
      "✅ Saved: data_processed\\MSFT.csv\n",
      "Processing: NFLX.csv\n",
      "✅ Saved: data_processed\\NFLX.csv\n",
      "Processing: NVDA.csv\n",
      "✅ Saved: data_processed\\NVDA.csv\n",
      "Processing: TSLA.csv\n",
      "✅ Saved: data_processed\\TSLA.csv\n",
      "Processing: V.csv\n",
      "✅ Saved: data_processed\\V.csv\n",
      "✅ All indicators computed and saved!\n"
     ]
    }
   ],
   "source": [
    "import os\n",
    "import pandas as pd\n",
    "import talib # used to get the computational tools\n",
    "\n",
    "\n",
    "DATA_DIR = \"data_cleaned\" # cleaned up data previously made\n",
    "PROCESSED_DATA_DIR = \"data_processed\" # new processed data \n",
    "\n",
    "os.makedirs(PROCESSED_DATA_DIR, exist_ok=True)\n",
    "\n",
    "def compute_indicators(df):\n",
    "    \"\"\"Computes technical indicators using TA-Lib.\"\"\"\n",
    "    \n",
    "    df[\"SMA_50\"] = talib.SMA(df[\"Close\"], timeperiod=50)  # 50-day Simple Moving Average\n",
    "    df[\"SMA_200\"] = talib.SMA(df[\"Close\"], timeperiod=200)  # 200-day Simple Moving Average\n",
    "    \n",
    "    df[\"EMA_50\"] = talib.EMA(df[\"Close\"], timeperiod=50)  # 50-day Exponential Moving Average\n",
    "    df[\"EMA_200\"] = talib.EMA(df[\"Close\"], timeperiod=200)  # 200-day Exponential Moving Average\n",
    "    \n",
    "    df[\"RSI_14\"] = talib.RSI(df[\"Close\"], timeperiod=14)  # Relative Strength Index\n",
    "    \n",
    "    df[\"MACD\"], df[\"MACD_Signal\"], df[\"MACD_Hist\"] = talib.MACD(df[\"Close\"], fastperiod=12, slowperiod=26, signalperiod=9)\n",
    "    \n",
    "    upper, middle, lower = talib.BBANDS(df[\"Close\"], timeperiod=20)\n",
    "    df[\"BB_Upper\"] = upper\n",
    "    df[\"BB_Middle\"] = middle\n",
    "    df[\"BB_Lower\"] = lower\n",
    "    \n",
    "    return df\n",
    "\n",
    "for file in os.listdir(DATA_DIR): # processing each stock file\n",
    "    if file.endswith(\".csv\"):\n",
    "        file_path = os.path.join(DATA_DIR, file)\n",
    "        print(f\"Processing: {file}\")\n",
    "        \n",
    "        df = pd.read_csv(file_path, index_col=\"Date\", parse_dates=True)\n",
    "        df = compute_indicators(df)\n",
    "        \n",
    "        processed_file_path = os.path.join(PROCESSED_DATA_DIR, file)\n",
    "        df.to_csv(processed_file_path)\n",
    "        print(f\"✅ Saved: {processed_file_path}\")\n",
    "\n",
    "print(\"✅ All indicators computed and saved!\")\n"
   ]
  },
  {
   "cell_type": "code",
   "execution_count": null,
   "id": "3d50cfbd-343d-4b4d-b9ee-9aa42d4876af",
   "metadata": {},
   "outputs": [],
   "source": []
  },
  {
   "cell_type": "code",
   "execution_count": null,
   "id": "e7d0d98c-6bac-4b07-881e-3907e59911f1",
   "metadata": {},
   "outputs": [],
   "source": []
  }
 ],
 "metadata": {
  "kernelspec": {
   "display_name": "Python 3 (ipykernel)",
   "language": "python",
   "name": "python3"
  },
  "language_info": {
   "codemirror_mode": {
    "name": "ipython",
    "version": 3
   },
   "file_extension": ".py",
   "mimetype": "text/x-python",
   "name": "python",
   "nbconvert_exporter": "python",
   "pygments_lexer": "ipython3",
   "version": "3.9.13"
  }
 },
 "nbformat": 4,
 "nbformat_minor": 5
}
