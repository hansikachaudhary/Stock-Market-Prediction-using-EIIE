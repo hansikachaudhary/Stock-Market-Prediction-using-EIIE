{
 "cells": [
  {
   "cell_type": "markdown",
   "metadata": {},
   "source": [
    "# Basic Training of the DeepScalper RL model\n"
   ]
  },
  {
   "cell_type": "markdown",
   "metadata": {},
   "source": [
    "## Step 1: Import Packages"
   ]
  },
  {
   "cell_type": "code",
   "execution_count": 1,
   "metadata": {
    "collapsed": true,
    "jupyter": {
     "outputs_hidden": true
    },
    "tags": []
   },
   "outputs": [
    {
     "name": "stderr",
     "output_type": "stream",
     "text": [
      "2023-03-04 18:50:27,916\tINFO services.py:1476 -- View the Ray dashboard at \u001b[1m\u001b[32mhttp://127.0.0.1:8266\u001b[39m\u001b[22m\n",
      "2023-03-04 18:50:30,042\tINFO worker.py:973 -- Calling ray.init() again after it has already been called.\n"
     ]
    }
   ],
   "source": [
    "import os\n",
    "import sys\n",
    "\n",
    "import warnings\n",
    "warnings.filterwarnings(\"ignore\")\n",
    "\n",
    "ROOT = os.path.dirname(os.path.abspath(\".\"))\n",
    "sys.path.append(ROOT)\n",
    "\n",
    "import torch\n",
    "import argparse\n",
    "import os.path as osp\n",
    "from mmcv import Config\n",
    "from trademaster.utils import replace_cfg_vals\n",
    "from trademaster.nets.builder import build_net\n",
    "from trademaster.environments.builder import build_environment\n",
    "from trademaster.datasets.builder import build_dataset\n",
    "from trademaster.agents.builder import build_agent\n",
    "from trademaster.optimizers.builder import build_optimizer\n",
    "from trademaster.losses.builder import build_loss\n",
    "from trademaster.trainers.builder import build_trainer\n",
    "from trademaster.transition.builder import build_transition\n",
    "from trademaster.utils import plot\n",
    "from trademaster.utils import set_seed\n",
    "set_seed(2023)"
   ]
  },
  {
   "cell_type": "markdown",
   "metadata": {
    "tags": []
   },
   "source": [
    "## Step 2: Load Configs\n",
    "Load default config from the file `configs/algorithmic_trading/algorithmic_trading_BTC_deepscalper_deepscalper_adam_mse.py`"
   ]
  },
  {
   "cell_type": "code",
   "execution_count": 2,
   "metadata": {},
   "outputs": [],
   "source": [
    "\n",
    "parser = argparse.ArgumentParser(description='Download Alpaca Datasets')\n",
    "parser.add_argument(\"--config\", default=osp.join(ROOT, \"configs\", \"algorithmic_trading\", \"algorithmic_trading_BTC_deepscalper_deepscalper_adam_mse.py\"),\n",
    "                    help=\"download datasets config file path\")\n",
    "parser.add_argument(\"--task_name\", type=str, default=\"train\")\n",
    "args, _= parser.parse_known_args()\n",
    "\n",
    "cfg = Config.fromfile(args.config)\n",
    "task_name = args.task_name\n",
    "cfg = replace_cfg_vals(cfg)"
   ]
  },
  {
   "cell_type": "code",
   "execution_count": 3,
   "metadata": {
    "collapsed": true,
    "jupyter": {
     "outputs_hidden": true
    },
    "tags": []
   },
   "outputs": [
    {
     "data": {
      "text/plain": [
       "Config (path: /data/sunshuo/qml/TradeMaster/configs/algorithmic_trading/algorithmic_trading_BTC_deepscalper_deepscalper_adam_mse.py): {'data': {'type': 'AlgorithmicTradingDataset', 'data_path': 'data/algorithmic_trading/BTC', 'train_path': 'data/algorithmic_trading/BTC/train.csv', 'valid_path': 'data/algorithmic_trading/BTC/valid.csv', 'test_path': 'data/algorithmic_trading/BTC/test.csv', 'test_dynamic_path': 'data/algorithmic_trading/BTC/test_labeled_3_24_-0.15_0.15.csv', 'tech_indicator_list': ['high', 'low', 'open', 'close', 'adjcp', 'zopen', 'zhigh', 'zlow', 'zadjcp', 'zclose', 'zd_5', 'zd_10', 'zd_15', 'zd_20', 'zd_25', 'zd_30'], 'backward_num_day': 5, 'forward_num_day': 5, 'test_dynamic': '-1'}, 'environment': {'type': 'AlgorithmicTradingEnvironment'}, 'agent': {'type': 'AlgorithmicTradingDQN', 'max_step': 12345, 'reward_scale': 1, 'repeat_times': 1, 'gamma': 0.9, 'batch_size': 64, 'clip_grad_norm': 3.0, 'soft_update_tau': 0, 'state_value_tau': 0.005}, 'trainer': {'type': 'AlgorithmicTradingTrainer', 'epochs': 2, 'work_dir': 'work_dir/algorithmic_trading_BTC_deepscalper_deepscalper_adam_mse', 'seeds_list': (12345,), 'batch_size': 64, 'horizon_len': 128, 'buffer_size': 1000000.0, 'num_threads': 8, 'if_remove': False, 'if_discrete': True, 'if_off_policy': True, 'if_keep_save': True, 'if_over_write': False, 'if_save_buffer': False}, 'loss': {'type': 'MSELoss'}, 'optimizer': {'type': 'Adam', 'lr': 0.001}, 'act': {'type': 'QNet', 'state_dim': 82, 'action_dim': 3, 'dims': (64, 32), 'explore_rate': 0.25}, 'cri': None, 'transition': {'type': 'Transition'}, 'task_name': 'algorithmic_trading', 'dataset_name': 'BTC', 'optimizer_name': 'adam', 'loss_name': 'mse', 'net_name': 'deepscalper', 'agent_name': 'deepscalper', 'work_dir': 'work_dir/algorithmic_trading_BTC_deepscalper_deepscalper_adam_mse', 'batch_size': 64}"
      ]
     },
     "execution_count": 3,
     "metadata": {},
     "output_type": "execute_result"
    }
   ],
   "source": [
    "cfg"
   ]
  },
  {
   "cell_type": "markdown",
   "metadata": {},
   "source": [
    "## Step 3: Build Dataset"
   ]
  },
  {
   "cell_type": "code",
   "execution_count": 4,
   "metadata": {},
   "outputs": [],
   "source": [
    "dataset = build_dataset(cfg)"
   ]
  },
  {
   "cell_type": "markdown",
   "metadata": {},
   "source": [
    "## Step 4: Build Reinforcement Learning Environments\n",
    "Build environments based on cfg and predefined dataset"
   ]
  },
  {
   "cell_type": "code",
   "execution_count": 5,
   "metadata": {},
   "outputs": [],
   "source": [
    "train_environment = build_environment(cfg, default_args=dict(dataset=dataset, task=\"train\"))\n",
    "valid_environment = build_environment(cfg, default_args=dict(dataset=dataset, task=\"valid\"))\n",
    "test_environment = build_environment(cfg, default_args=dict(dataset=dataset, task=\"test\"))"
   ]
  },
  {
   "cell_type": "code",
   "execution_count": 6,
   "metadata": {},
   "outputs": [
    {
     "data": {
      "text/html": [
       "<div>\n",
       "<style scoped>\n",
       "    .dataframe tbody tr th:only-of-type {\n",
       "        vertical-align: middle;\n",
       "    }\n",
       "\n",
       "    .dataframe tbody tr th {\n",
       "        vertical-align: top;\n",
       "    }\n",
       "\n",
       "    .dataframe thead th {\n",
       "        text-align: right;\n",
       "    }\n",
       "</style>\n",
       "<table border=\"1\" class=\"dataframe\">\n",
       "  <thead>\n",
       "    <tr style=\"text-align: right;\">\n",
       "      <th></th>\n",
       "      <th>tic</th>\n",
       "      <th>date</th>\n",
       "      <th>high</th>\n",
       "      <th>low</th>\n",
       "      <th>open</th>\n",
       "      <th>close</th>\n",
       "      <th>adjcp</th>\n",
       "      <th>zopen</th>\n",
       "      <th>zhigh</th>\n",
       "      <th>zlow</th>\n",
       "      <th>zadjcp</th>\n",
       "      <th>zclose</th>\n",
       "      <th>zd_5</th>\n",
       "      <th>zd_10</th>\n",
       "      <th>zd_15</th>\n",
       "      <th>zd_20</th>\n",
       "      <th>zd_25</th>\n",
       "      <th>zd_30</th>\n",
       "    </tr>\n",
       "  </thead>\n",
       "  <tbody>\n",
       "    <tr>\n",
       "      <th>0</th>\n",
       "      <td>BTC</td>\n",
       "      <td>2016-01-24 23:59:59</td>\n",
       "      <td>405.484985</td>\n",
       "      <td>387.510010</td>\n",
       "      <td>388.101990</td>\n",
       "      <td>402.971008</td>\n",
       "      <td>402.971008</td>\n",
       "      <td>-0.036898</td>\n",
       "      <td>0.006239</td>\n",
       "      <td>-0.038368</td>\n",
       "      <td>0.0</td>\n",
       "      <td>0.039949</td>\n",
       "      <td>-0.005662</td>\n",
       "      <td>-0.030965</td>\n",
       "      <td>0.009124</td>\n",
       "      <td>0.032291</td>\n",
       "      <td>0.040384</td>\n",
       "      <td>0.042514</td>\n",
       "    </tr>\n",
       "    <tr>\n",
       "      <th>1</th>\n",
       "      <td>BTC</td>\n",
       "      <td>2016-01-25 23:59:59</td>\n",
       "      <td>402.316986</td>\n",
       "      <td>388.553986</td>\n",
       "      <td>402.316986</td>\n",
       "      <td>391.726013</td>\n",
       "      <td>391.726013</td>\n",
       "      <td>0.027037</td>\n",
       "      <td>0.027037</td>\n",
       "      <td>-0.008098</td>\n",
       "      <td>0.0</td>\n",
       "      <td>-0.027905</td>\n",
       "      <td>0.008328</td>\n",
       "      <td>0.003846</td>\n",
       "      <td>0.028517</td>\n",
       "      <td>0.056789</td>\n",
       "      <td>0.066283</td>\n",
       "      <td>0.070267</td>\n",
       "    </tr>\n",
       "    <tr>\n",
       "      <th>2</th>\n",
       "      <td>BTC</td>\n",
       "      <td>2016-01-26 23:59:59</td>\n",
       "      <td>397.765991</td>\n",
       "      <td>390.575012</td>\n",
       "      <td>392.002014</td>\n",
       "      <td>392.153015</td>\n",
       "      <td>392.153015</td>\n",
       "      <td>-0.000385</td>\n",
       "      <td>0.014313</td>\n",
       "      <td>-0.004024</td>\n",
       "      <td>0.0</td>\n",
       "      <td>0.001090</td>\n",
       "      <td>-0.002005</td>\n",
       "      <td>0.003930</td>\n",
       "      <td>0.017830</td>\n",
       "      <td>0.050927</td>\n",
       "      <td>0.060819</td>\n",
       "      <td>0.066495</td>\n",
       "    </tr>\n",
       "    <tr>\n",
       "      <th>3</th>\n",
       "      <td>BTC</td>\n",
       "      <td>2016-01-27 23:59:59</td>\n",
       "      <td>396.842987</td>\n",
       "      <td>391.782013</td>\n",
       "      <td>392.444000</td>\n",
       "      <td>394.971985</td>\n",
       "      <td>394.971985</td>\n",
       "      <td>-0.006400</td>\n",
       "      <td>0.004737</td>\n",
       "      <td>-0.008076</td>\n",
       "      <td>0.0</td>\n",
       "      <td>0.007188</td>\n",
       "      <td>-0.002809</td>\n",
       "      <td>-0.000027</td>\n",
       "      <td>0.003693</td>\n",
       "      <td>0.035441</td>\n",
       "      <td>0.049353</td>\n",
       "      <td>0.056578</td>\n",
       "    </tr>\n",
       "    <tr>\n",
       "      <th>4</th>\n",
       "      <td>BTC</td>\n",
       "      <td>2016-01-28 23:59:59</td>\n",
       "      <td>395.502014</td>\n",
       "      <td>379.734985</td>\n",
       "      <td>395.145996</td>\n",
       "      <td>380.289001</td>\n",
       "      <td>380.289001</td>\n",
       "      <td>0.039068</td>\n",
       "      <td>0.040004</td>\n",
       "      <td>-0.001457</td>\n",
       "      <td>0.0</td>\n",
       "      <td>-0.037175</td>\n",
       "      <td>0.031905</td>\n",
       "      <td>0.036773</td>\n",
       "      <td>0.033315</td>\n",
       "      <td>0.065830</td>\n",
       "      <td>0.084638</td>\n",
       "      <td>0.092754</td>\n",
       "    </tr>\n",
       "  </tbody>\n",
       "</table>\n",
       "</div>"
      ],
      "text/plain": [
       "   tic                 date        high         low        open       close  \\\n",
       "0  BTC  2016-01-24 23:59:59  405.484985  387.510010  388.101990  402.971008   \n",
       "1  BTC  2016-01-25 23:59:59  402.316986  388.553986  402.316986  391.726013   \n",
       "2  BTC  2016-01-26 23:59:59  397.765991  390.575012  392.002014  392.153015   \n",
       "3  BTC  2016-01-27 23:59:59  396.842987  391.782013  392.444000  394.971985   \n",
       "4  BTC  2016-01-28 23:59:59  395.502014  379.734985  395.145996  380.289001   \n",
       "\n",
       "        adjcp     zopen     zhigh      zlow  zadjcp    zclose      zd_5  \\\n",
       "0  402.971008 -0.036898  0.006239 -0.038368     0.0  0.039949 -0.005662   \n",
       "1  391.726013  0.027037  0.027037 -0.008098     0.0 -0.027905  0.008328   \n",
       "2  392.153015 -0.000385  0.014313 -0.004024     0.0  0.001090 -0.002005   \n",
       "3  394.971985 -0.006400  0.004737 -0.008076     0.0  0.007188 -0.002809   \n",
       "4  380.289001  0.039068  0.040004 -0.001457     0.0 -0.037175  0.031905   \n",
       "\n",
       "      zd_10     zd_15     zd_20     zd_25     zd_30  \n",
       "0 -0.030965  0.009124  0.032291  0.040384  0.042514  \n",
       "1  0.003846  0.028517  0.056789  0.066283  0.070267  \n",
       "2  0.003930  0.017830  0.050927  0.060819  0.066495  \n",
       "3 -0.000027  0.003693  0.035441  0.049353  0.056578  \n",
       "4  0.036773  0.033315  0.065830  0.084638  0.092754  "
      ]
     },
     "execution_count": 6,
     "metadata": {},
     "output_type": "execute_result"
    }
   ],
   "source": [
    "train_environment.df.head()"
   ]
  },
  {
   "cell_type": "markdown",
   "metadata": {},
   "source": [
    "## Step 5: Build Net \n",
    "Update information about the state and action dimension. Create networks and optimizer for DeepScalper\n"
   ]
  },
  {
   "cell_type": "code",
   "execution_count": 7,
   "metadata": {},
   "outputs": [],
   "source": [
    "action_dim = train_environment.action_dim\n",
    "state_dim = train_environment.state_dim\n",
    "\n",
    "cfg.act.update(dict(action_dim=action_dim, state_dim=state_dim))\n",
    "act = build_net(cfg.act)\n",
    "act_optimizer = build_optimizer(cfg, default_args=dict(params=act.parameters()))\n",
    "if cfg.cri:\n",
    "    cfg.cri.update(dict(action_dim=action_dim, state_dim=state_dim))\n",
    "    cri = build_net(cfg.cri)\n",
    "    cri_optimizer = build_optimizer(cfg, default_args=dict(params=cri.parameters()))\n",
    "else:\n",
    "    cri = None\n",
    "    cri_optimizer = None"
   ]
  },
  {
   "cell_type": "markdown",
   "metadata": {},
   "source": [
    "## Step 6: Build Loss"
   ]
  },
  {
   "cell_type": "code",
   "execution_count": 8,
   "metadata": {},
   "outputs": [],
   "source": [
    "criterion = build_loss(cfg)"
   ]
  },
  {
   "cell_type": "markdown",
   "metadata": {},
   "source": [
    "## Step 7: Build Transition"
   ]
  },
  {
   "cell_type": "code",
   "execution_count": 9,
   "metadata": {},
   "outputs": [],
   "source": [
    "transition = build_transition(cfg)\n"
   ]
  },
  {
   "cell_type": "markdown",
   "metadata": {},
   "source": [
    "## Step 8: Build Agent"
   ]
  },
  {
   "cell_type": "code",
   "execution_count": 10,
   "metadata": {},
   "outputs": [],
   "source": [
    "device = torch.device('cuda' if torch.cuda.is_available() else 'cpu')\n",
    "agent = build_agent(cfg, default_args=dict(action_dim = action_dim,state_dim = state_dim,act = act,cri = cri,act_optimizer = act_optimizer,cri_optimizer = cri_optimizer, criterion = criterion,transition = transition,device=device))"
   ]
  },
  {
   "cell_type": "markdown",
   "metadata": {},
   "source": [
    "## Step 9: Build Trainer\n",
    "Build trainer from config and create work directionary to save the result, model and config"
   ]
  },
  {
   "cell_type": "code",
   "execution_count": 11,
   "metadata": {},
   "outputs": [
    {
     "name": "stdout",
     "output_type": "stream",
     "text": [
      "| Arguments Keep work_dir: /data/sunshuo/qml/TradeMaster/work_dir/algorithmic_trading_BTC_deepscalper_deepscalper_adam_mse\n"
     ]
    }
   ],
   "source": [
    "trainer = build_trainer(cfg, default_args=dict(train_environment=train_environment,valid_environment=valid_environment,test_environment=test_environment,agent=agent,device=device))"
   ]
  },
  {
   "cell_type": "markdown",
   "metadata": {},
   "source": [
    "## Step 10: Train the RL Agent\n",
    "Train the trainer based on the config and save results in workdir"
   ]
  },
  {
   "cell_type": "code",
   "execution_count": 12,
   "metadata": {},
   "outputs": [
    {
     "name": "stdout",
     "output_type": "stream",
     "text": [
      "Train Episode: [1/2]\n",
      "+--------------+-------------+------------+--------------+\n",
      "| Total Return | Sharp Ratio | Volatility | Max Drawdown |\n",
      "+--------------+-------------+------------+--------------+\n",
      "| 663.053338%  |   1.465309  | 3.726925%  |  63.966805%  |\n",
      "+--------------+-------------+------------+--------------+\n",
      "Valid Episode: [1/2]\n",
      "+--------------+-------------+------------+--------------+\n",
      "| Total Return | Sharp Ratio | Volatility | Max Drawdown |\n",
      "+--------------+-------------+------------+--------------+\n",
      "| -35.444878%  |   0.430537  | 42.560375% | 118.689588%  |\n",
      "+--------------+-------------+------------+--------------+\n",
      "Train Episode: [2/2]\n",
      "+--------------+-------------+------------+--------------+\n",
      "| Total Return | Sharp Ratio | Volatility | Max Drawdown |\n",
      "+--------------+-------------+------------+--------------+\n",
      "| 967.324329%  |   1.621369  | 3.868479%  |  64.052556%  |\n",
      "+--------------+-------------+------------+--------------+\n",
      "Valid Episode: [2/2]\n",
      "+--------------+-------------+------------+--------------+\n",
      "| Total Return | Sharp Ratio | Volatility | Max Drawdown |\n",
      "+--------------+-------------+------------+--------------+\n",
      "| -199.576611% |   0.292613  | 15.006834% | 289.010033%  |\n",
      "+--------------+-------------+------------+--------------+\n"
     ]
    }
   ],
   "source": [
    "trainer.train_and_valid()"
   ]
  },
  {
   "cell_type": "markdown",
   "metadata": {},
   "source": [
    "## Step 11: RL Agent Testing"
   ]
  },
  {
   "cell_type": "code",
   "execution_count": 13,
   "metadata": {},
   "outputs": [
    {
     "name": "stdout",
     "output_type": "stream",
     "text": [
      "Resume checkpoint /data/sunshuo/qml/TradeMaster/work_dir/algorithmic_trading_BTC_deepscalper_deepscalper_adam_mse/checkpoints/best.pth\n",
      "Test Best Episode\n",
      "+--------------+-------------+------------+--------------+\n",
      "| Total Return | Sharp Ratio | Volatility | Max Drawdown |\n",
      "+--------------+-------------+------------+--------------+\n",
      "| 218.177594%  |   1.966325  | 2.131242%  |  29.503340%  |\n",
      "+--------------+-------------+------------+--------------+\n"
     ]
    }
   ],
   "source": [
    "trainer.test();"
   ]
  },
  {
   "cell_type": "code",
   "execution_count": 14,
   "metadata": {},
   "outputs": [
    {
     "data": {
      "image/png": "[encoded data removed]",
      "text/plain": [
       "<Figure size 432x288 with 1 Axes>"
      ]
     },
     "metadata": {
      "needs_background": "light"
     },
     "output_type": "display_data"
    }
   ],
   "source": [
    "plot(trainer.test_environment.save_asset_memory(),alg=\"DeepScalper\")"
   ]
  }
 ],
 "metadata": {
  "kernelspec": {
   "display_name": "Python 3 (ipykernel)",
   "language": "python",
   "name": "python3"
  },
  "language_info": {
   "codemirror_mode": {
    "name": "ipython",
    "version": 3
   },
   "file_extension": ".py",
   "mimetype": "text/x-python",
   "name": "python",
   "nbconvert_exporter": "python",
   "pygments_lexer": "ipython3",
   "version": "3.9.13"
  },
  "vscode": {
   "interpreter": {
    "hash": "a1f97403911abd3f02553c8f2b0c54537fddc7efadd9f5d3e31784db6e40c347"
   }
  }
 },
 "nbformat": 4,
 "nbformat_minor": 4
}
