{
 "cells": [
  {
   "cell_type": "markdown",
   "metadata": {},
   "source": [
    "# Tutorial 5\n",
    "This tutorial is to demonstrate an example of using ETEO for order execution"
   ]
  },
  {
   "cell_type": "markdown",
   "metadata": {},
   "source": [
    "## Step 1: Import Packages"
   ]
  },
  {
   "cell_type": "code",
   "execution_count": 1,
   "metadata": {},
   "outputs": [
    {
     "name": "stderr",
     "output_type": "stream",
     "text": [
      "2023-03-04 18:50:55,112\tINFO services.py:1476 -- View the Ray dashboard at \u001b[1m\u001b[32mhttp://127.0.0.1:8269\u001b[39m\u001b[22m\n",
      "2023-03-04 18:50:57,245\tINFO worker.py:973 -- Calling ray.init() again after it has already been called.\n"
     ]
    }
   ],
   "source": [
    "import warnings\n",
    "warnings.filterwarnings(\"ignore\")\n",
    "\n",
    "import sys\n",
    "from pathlib import Path\n",
    "import os\n",
    "import torch\n",
    "\n",
    "ROOT = os.path.dirname(os.path.abspath(\".\"))\n",
    "sys.path.append(ROOT)\n",
    "\n",
    "import argparse\n",
    "import os.path as osp\n",
    "from mmcv import Config\n",
    "from trademaster.utils import replace_cfg_vals\n",
    "from trademaster.nets.builder import build_net\n",
    "from trademaster.environments.builder import build_environment\n",
    "from trademaster.datasets.builder import build_dataset\n",
    "from trademaster.agents.builder import build_agent\n",
    "from trademaster.optimizers.builder import build_optimizer\n",
    "from trademaster.losses.builder import build_loss\n",
    "from trademaster.trainers.builder import build_trainer\n",
    "from trademaster.transition.builder import build_transition\n",
    "from collections import Counter\n",
    "from trademaster.utils import set_seed\n",
    "set_seed(2023)"
   ]
  },
  {
   "cell_type": "markdown",
   "metadata": {},
   "source": [
    "## Step 2: Import Configs"
   ]
  },
  {
   "cell_type": "code",
   "execution_count": 2,
   "metadata": {},
   "outputs": [],
   "source": [
    "parser = argparse.ArgumentParser(description='Download Alpaca Datasets')\n",
    "parser.add_argument(\"--config\", default=osp.join(ROOT, \"configs\", \"order_execution\",\n",
    "                                                 \"order_execution_BTC_eteo_eteo_adam_mse.py\"),\n",
    "                    help=\"download datasets config file path\")\n",
    "parser.add_argument(\"--task_name\", type=str, default=\"train\")\n",
    "parser.add_argument(\"--test_style\", type=str, default=\"-1\")\n",
    "args,_ = parser.parse_known_args()\n",
    "\n",
    "cfg = Config.fromfile(args.config)\n",
    "task_name = args.task_name\n",
    "cfg = replace_cfg_vals(cfg)"
   ]
  },
  {
   "cell_type": "markdown",
   "metadata": {},
   "source": [
    "## Step 3: Build Dataset"
   ]
  },
  {
   "cell_type": "code",
   "execution_count": 3,
   "metadata": {},
   "outputs": [
    {
     "name": "stdout",
     "output_type": "stream",
     "text": [
      "The 18_th segment length is less than the min length so it won't be tested\n"
     ]
    }
   ],
   "source": [
    "dataset = build_dataset(cfg)"
   ]
  },
  {
   "cell_type": "markdown",
   "metadata": {},
   "source": [
    "## Step 4: Build Environment"
   ]
  },
  {
   "cell_type": "code",
   "execution_count": 4,
   "metadata": {},
   "outputs": [],
   "source": [
    "device = torch.device('cuda' if torch.cuda.is_available() else 'cpu')\n",
    "train_environment = build_environment(cfg, default_args=dict(dataset=dataset, task=\"train\"))\n",
    "valid_environment = build_environment(cfg, default_args=dict(dataset=dataset, task=\"valid\"))\n",
    "test_environment = build_environment(cfg, default_args=dict(dataset=dataset, task=\"test\"))"
   ]
  },
  {
   "cell_type": "code",
   "execution_count": 5,
   "metadata": {
    "pycharm": {
     "name": "#%%\n"
    }
   },
   "outputs": [
    {
     "data": {
      "text/html": [
       "<div>\n",
       "<style scoped>\n",
       "    .dataframe tbody tr th:only-of-type {\n",
       "        vertical-align: middle;\n",
       "    }\n",
       "\n",
       "    .dataframe tbody tr th {\n",
       "        vertical-align: top;\n",
       "    }\n",
       "\n",
       "    .dataframe thead th {\n",
       "        text-align: right;\n",
       "    }\n",
       "</style>\n",
       "<table border=\"1\" class=\"dataframe\">\n",
       "  <thead>\n",
       "    <tr style=\"text-align: right;\">\n",
       "      <th></th>\n",
       "      <th>system_time</th>\n",
       "      <th>midpoint</th>\n",
       "      <th>spread</th>\n",
       "      <th>buys</th>\n",
       "      <th>sells</th>\n",
       "      <th>bids_distance_0</th>\n",
       "      <th>bids_distance_1</th>\n",
       "      <th>bids_distance_2</th>\n",
       "      <th>bids_distance_3</th>\n",
       "      <th>bids_distance_4</th>\n",
       "      <th>...</th>\n",
       "      <th>asks_market_notional_5</th>\n",
       "      <th>asks_market_notional_6</th>\n",
       "      <th>asks_market_notional_7</th>\n",
       "      <th>asks_market_notional_8</th>\n",
       "      <th>asks_market_notional_9</th>\n",
       "      <th>asks_market_notional_10</th>\n",
       "      <th>asks_market_notional_11</th>\n",
       "      <th>asks_market_notional_12</th>\n",
       "      <th>asks_market_notional_13</th>\n",
       "      <th>asks_market_notional_14</th>\n",
       "    </tr>\n",
       "  </thead>\n",
       "  <tbody>\n",
       "    <tr>\n",
       "      <th>0</th>\n",
       "      <td>2021-04-07 11:33:41.122161+00:00</td>\n",
       "      <td>55896.285</td>\n",
       "      <td>0.01</td>\n",
       "      <td>4.448599e+06</td>\n",
       "      <td>3.899402e+06</td>\n",
       "      <td>-8.945138e-08</td>\n",
       "      <td>-0.000065</td>\n",
       "      <td>-0.000073</td>\n",
       "      <td>-0.000154</td>\n",
       "      <td>-0.000162</td>\n",
       "      <td>...</td>\n",
       "      <td>0.0</td>\n",
       "      <td>0.000000</td>\n",
       "      <td>0.0</td>\n",
       "      <td>0.0</td>\n",
       "      <td>0.0</td>\n",
       "      <td>0.0</td>\n",
       "      <td>0.0</td>\n",
       "      <td>0.0</td>\n",
       "      <td>1176.72998</td>\n",
       "      <td>0.0</td>\n",
       "    </tr>\n",
       "    <tr>\n",
       "      <th>1</th>\n",
       "      <td>2021-04-07 11:34:41.122161+00:00</td>\n",
       "      <td>55948.685</td>\n",
       "      <td>1.43</td>\n",
       "      <td>1.243244e+06</td>\n",
       "      <td>3.606502e+06</td>\n",
       "      <td>-1.277957e-05</td>\n",
       "      <td>-0.000013</td>\n",
       "      <td>-0.000242</td>\n",
       "      <td>-0.000242</td>\n",
       "      <td>-0.000259</td>\n",
       "      <td>...</td>\n",
       "      <td>0.0</td>\n",
       "      <td>0.000000</td>\n",
       "      <td>0.0</td>\n",
       "      <td>0.0</td>\n",
       "      <td>0.0</td>\n",
       "      <td>0.0</td>\n",
       "      <td>0.0</td>\n",
       "      <td>0.0</td>\n",
       "      <td>0.00000</td>\n",
       "      <td>0.0</td>\n",
       "    </tr>\n",
       "    <tr>\n",
       "      <th>2</th>\n",
       "      <td>2021-04-07 11:35:41.122161+00:00</td>\n",
       "      <td>56013.785</td>\n",
       "      <td>0.01</td>\n",
       "      <td>3.069094e+06</td>\n",
       "      <td>1.575759e+06</td>\n",
       "      <td>-8.926374e-08</td>\n",
       "      <td>-0.000009</td>\n",
       "      <td>-0.000070</td>\n",
       "      <td>-0.000088</td>\n",
       "      <td>-0.000173</td>\n",
       "      <td>...</td>\n",
       "      <td>0.0</td>\n",
       "      <td>0.000000</td>\n",
       "      <td>0.0</td>\n",
       "      <td>0.0</td>\n",
       "      <td>0.0</td>\n",
       "      <td>0.0</td>\n",
       "      <td>0.0</td>\n",
       "      <td>0.0</td>\n",
       "      <td>0.00000</td>\n",
       "      <td>0.0</td>\n",
       "    </tr>\n",
       "    <tr>\n",
       "      <th>3</th>\n",
       "      <td>2021-04-07 11:36:41.122161+00:00</td>\n",
       "      <td>55903.575</td>\n",
       "      <td>7.17</td>\n",
       "      <td>1.220819e+06</td>\n",
       "      <td>1.321487e+06</td>\n",
       "      <td>-6.412827e-05</td>\n",
       "      <td>-0.000182</td>\n",
       "      <td>-0.000188</td>\n",
       "      <td>-0.000225</td>\n",
       "      <td>-0.000310</td>\n",
       "      <td>...</td>\n",
       "      <td>0.0</td>\n",
       "      <td>312.040009</td>\n",
       "      <td>0.0</td>\n",
       "      <td>0.0</td>\n",
       "      <td>0.0</td>\n",
       "      <td>0.0</td>\n",
       "      <td>0.0</td>\n",
       "      <td>0.0</td>\n",
       "      <td>0.00000</td>\n",
       "      <td>0.0</td>\n",
       "    </tr>\n",
       "    <tr>\n",
       "      <th>4</th>\n",
       "      <td>2021-04-07 11:37:41.122161+00:00</td>\n",
       "      <td>55899.995</td>\n",
       "      <td>0.01</td>\n",
       "      <td>2.011287e+06</td>\n",
       "      <td>3.083005e+06</td>\n",
       "      <td>-8.944544e-08</td>\n",
       "      <td>-0.000129</td>\n",
       "      <td>-0.000130</td>\n",
       "      <td>-0.000143</td>\n",
       "      <td>-0.000201</td>\n",
       "      <td>...</td>\n",
       "      <td>0.0</td>\n",
       "      <td>0.000000</td>\n",
       "      <td>0.0</td>\n",
       "      <td>0.0</td>\n",
       "      <td>0.0</td>\n",
       "      <td>0.0</td>\n",
       "      <td>0.0</td>\n",
       "      <td>0.0</td>\n",
       "      <td>0.00000</td>\n",
       "      <td>0.0</td>\n",
       "    </tr>\n",
       "  </tbody>\n",
       "</table>\n",
       "<p>5 rows × 155 columns</p>\n",
       "</div>"
      ],
      "text/plain": [
       "                        system_time   midpoint  spread          buys  \\\n",
       "0  2021-04-07 11:33:41.122161+00:00  55896.285    0.01  4.448599e+06   \n",
       "1  2021-04-07 11:34:41.122161+00:00  55948.685    1.43  1.243244e+06   \n",
       "2  2021-04-07 11:35:41.122161+00:00  56013.785    0.01  3.069094e+06   \n",
       "3  2021-04-07 11:36:41.122161+00:00  55903.575    7.17  1.220819e+06   \n",
       "4  2021-04-07 11:37:41.122161+00:00  55899.995    0.01  2.011287e+06   \n",
       "\n",
       "          sells  bids_distance_0  bids_distance_1  bids_distance_2  \\\n",
       "0  3.899402e+06    -8.945138e-08        -0.000065        -0.000073   \n",
       "1  3.606502e+06    -1.277957e-05        -0.000013        -0.000242   \n",
       "2  1.575759e+06    -8.926374e-08        -0.000009        -0.000070   \n",
       "3  1.321487e+06    -6.412827e-05        -0.000182        -0.000188   \n",
       "4  3.083005e+06    -8.944544e-08        -0.000129        -0.000130   \n",
       "\n",
       "   bids_distance_3  bids_distance_4  ...  asks_market_notional_5  \\\n",
       "0        -0.000154        -0.000162  ...                     0.0   \n",
       "1        -0.000242        -0.000259  ...                     0.0   \n",
       "2        -0.000088        -0.000173  ...                     0.0   \n",
       "3        -0.000225        -0.000310  ...                     0.0   \n",
       "4        -0.000143        -0.000201  ...                     0.0   \n",
       "\n",
       "   asks_market_notional_6  asks_market_notional_7  asks_market_notional_8  \\\n",
       "0                0.000000                     0.0                     0.0   \n",
       "1                0.000000                     0.0                     0.0   \n",
       "2                0.000000                     0.0                     0.0   \n",
       "3              312.040009                     0.0                     0.0   \n",
       "4                0.000000                     0.0                     0.0   \n",
       "\n",
       "   asks_market_notional_9  asks_market_notional_10  asks_market_notional_11  \\\n",
       "0                     0.0                      0.0                      0.0   \n",
       "1                     0.0                      0.0                      0.0   \n",
       "2                     0.0                      0.0                      0.0   \n",
       "3                     0.0                      0.0                      0.0   \n",
       "4                     0.0                      0.0                      0.0   \n",
       "\n",
       "   asks_market_notional_12  asks_market_notional_13  asks_market_notional_14  \n",
       "0                      0.0               1176.72998                      0.0  \n",
       "1                      0.0                  0.00000                      0.0  \n",
       "2                      0.0                  0.00000                      0.0  \n",
       "3                      0.0                  0.00000                      0.0  \n",
       "4                      0.0                  0.00000                      0.0  \n",
       "\n",
       "[5 rows x 155 columns]"
      ]
     },
     "execution_count": 5,
     "metadata": {},
     "output_type": "execute_result"
    }
   ],
   "source": [
    "train_environment.df.head()"
   ]
  },
  {
   "cell_type": "markdown",
   "metadata": {},
   "source": [
    "## Step 5: Build Net"
   ]
  },
  {
   "cell_type": "code",
   "execution_count": 6,
   "metadata": {},
   "outputs": [],
   "source": [
    "action_dim = train_environment.action_dim\n",
    "state_dim = train_environment.state_dim\n",
    "\n",
    "cfg.act.update(dict(action_dim=action_dim, state_dim=state_dim))\n",
    "cfg.cri.update(dict(action_dim=action_dim, state_dim=state_dim))\n",
    "\n",
    "act = build_net(cfg.act)\n",
    "cri = build_net(cfg.cri)"
   ]
  },
  {
   "cell_type": "markdown",
   "metadata": {},
   "source": [
    "## Step 6: Build Optimizer"
   ]
  },
  {
   "cell_type": "code",
   "execution_count": 7,
   "metadata": {},
   "outputs": [],
   "source": [
    "act_optimizer = build_optimizer(cfg, default_args=dict(params=act.parameters()))\n",
    "cri_optimizer = None"
   ]
  },
  {
   "cell_type": "markdown",
   "metadata": {},
   "source": [
    "## Step 7: Build Loss"
   ]
  },
  {
   "cell_type": "code",
   "execution_count": 8,
   "metadata": {},
   "outputs": [],
   "source": [
    "criterion = build_loss(cfg)"
   ]
  },
  {
   "cell_type": "markdown",
   "metadata": {},
   "source": [
    "## Step 8: Build Transition"
   ]
  },
  {
   "cell_type": "code",
   "execution_count": 9,
   "metadata": {},
   "outputs": [],
   "source": [
    "transition = build_transition(cfg)"
   ]
  },
  {
   "cell_type": "markdown",
   "metadata": {},
   "source": [
    "## Step 9: Build Agent"
   ]
  },
  {
   "cell_type": "code",
   "execution_count": 10,
   "metadata": {},
   "outputs": [],
   "source": [
    "agent = build_agent(cfg, default_args=dict(action_dim=action_dim,state_dim=state_dim,act=act,cri=cri,act_optimizer=act_optimizer,cri_optimizer=cri_optimizer,criterion=criterion,transition=transition,device=device))"
   ]
  },
  {
   "cell_type": "markdown",
   "metadata": {},
   "source": [
    "## Step 10: Build Trainer"
   ]
  },
  {
   "cell_type": "code",
   "execution_count": 11,
   "metadata": {},
   "outputs": [
    {
     "name": "stdout",
     "output_type": "stream",
     "text": [
      "| Arguments Keep work_dir: /data/sunshuo/qml/TradeMaster/work_dir/order_execution_BTC_eteo_eteo_adam_mse\n"
     ]
    }
   ],
   "source": [
    "trainer = build_trainer(cfg, default_args=dict(train_environment=train_environment,valid_environment=valid_environment,test_environment=test_environment,agent=agent,device=device))"
   ]
  },
  {
   "cell_type": "markdown",
   "metadata": {},
   "source": [
    "## Step 11: RL Agent Training\n",
    "Train the ETTO agent based on the config and save results in workdir"
   ]
  },
  {
   "cell_type": "code",
   "execution_count": 12,
   "metadata": {},
   "outputs": [
    {
     "name": "stdout",
     "output_type": "stream",
     "text": [
      "Train Episode: [1/2]\n",
      "+--------------+--------------+-----------------+\n",
      "|  Cash Left   |     TWAP     | Cash Left Ratio |\n",
      "+--------------+--------------+-----------------+\n",
      "| 37461.153500 | 41059.122004 |    -8.762897%   |\n",
      "+--------------+--------------+-----------------+\n",
      "Valid Episode: [1/2]\n",
      "+--------------+--------------+-----------------+\n",
      "|  Cash Left   |     TWAP     | Cash Left Ratio |\n",
      "+--------------+--------------+-----------------+\n",
      "| 38610.495450 | 37244.542270 |    3.667526%    |\n",
      "+--------------+--------------+-----------------+\n",
      "Train Episode: [2/2]\n",
      "+--------------+--------------+-----------------+\n",
      "|  Cash Left   |     TWAP     | Cash Left Ratio |\n",
      "+--------------+--------------+-----------------+\n",
      "| 37461.153500 | 41059.122004 |    -8.762897%   |\n",
      "+--------------+--------------+-----------------+\n",
      "Valid Episode: [2/2]\n",
      "+--------------+--------------+-----------------+\n",
      "|  Cash Left   |     TWAP     | Cash Left Ratio |\n",
      "+--------------+--------------+-----------------+\n",
      "| 38610.495450 | 37244.542270 |    3.667526%    |\n",
      "+--------------+--------------+-----------------+\n"
     ]
    }
   ],
   "source": [
    "trainer.train_and_valid()"
   ]
  },
  {
   "cell_type": "markdown",
   "metadata": {},
   "source": [
    "## Step 12: RL Agent Testing"
   ]
  },
  {
   "cell_type": "code",
   "execution_count": 13,
   "metadata": {
    "pycharm": {
     "name": "#%%\n"
    }
   },
   "outputs": [
    {
     "name": "stdout",
     "output_type": "stream",
     "text": [
      "Resume checkpoint /data/sunshuo/qml/TradeMaster/work_dir/order_execution_BTC_eteo_eteo_adam_mse/checkpoints/best.pth\n",
      "Test Best Episode\n",
      "+--------------+--------------+-----------------+\n",
      "|  Cash Left   |     TWAP     | Cash Left Ratio |\n",
      "+--------------+--------------+-----------------+\n",
      "| 44920.363750 | 39814.366548 |    12.824509%   |\n",
      "+--------------+--------------+-----------------+\n"
     ]
    }
   ],
   "source": [
    "trainer.test();\n"
   ]
  }
 ],
 "metadata": {
  "kernelspec": {
   "display_name": "Python 3 (ipykernel)",
   "language": "python",
   "name": "python3"
  },
  "language_info": {
   "codemirror_mode": {
    "name": "ipython",
    "version": 3
   },
   "file_extension": ".py",
   "mimetype": "text/x-python",
   "name": "python",
   "nbconvert_exporter": "python",
   "pygments_lexer": "ipython3",
   "version": "3.9.13"
  },
  "vscode": {
   "interpreter": {
    "hash": "a1f97403911abd3f02553c8f2b0c54537fddc7efadd9f5d3e31784db6e40c347"
   }
  }
 },
 "nbformat": 4,
 "nbformat_minor": 4
}
