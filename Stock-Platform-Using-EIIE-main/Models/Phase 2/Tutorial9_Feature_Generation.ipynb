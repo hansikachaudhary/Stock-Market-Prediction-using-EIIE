{
 "cells": [
  {
   "cell_type": "markdown",
   "metadata": {
    "id": "NYZ3GlhQfEPR"
   },
   "source": [
    "# Automatic Feature Generation for PPO\n",
    "This tutorial shows how automatic feature generation is conducted with OpenFE library."
   ]
  },
  {
   "cell_type": "code",
   "execution_count": null,
   "metadata": {
    "colab": {
     "base_uri": "https://localhost:8080/"
    },
    "id": "JMChf7XWfkP3",
    "outputId": "5dce575d-f3e5-4a83-8ba0-858efa76eb1b"
   },
   "outputs": [
    {
     "name": "stdout",
     "output_type": "stream",
     "text": [
      "Cloning into 'TradeMaster'...\n",
      "remote: Enumerating objects: 6561, done.\u001b[K\n",
      "remote: Total 6561 (delta 0), reused 0 (delta 0), pack-reused 6561\u001b[K\n",
      "Receiving objects: 100% (6561/6561), 382.93 MiB | 22.83 MiB/s, done.\n",
      "Resolving deltas: 100% (3393/3393), done.\n",
      "Updating files: 100% (400/400), done.\n"
     ]
    }
   ],
   "source": [
    "!git clone -b 1.0.0 https://github.com/TradeMaster-NTU/TradeMaster.git"
   ]
  },
  {
   "cell_type": "code",
   "execution_count": null,
   "metadata": {
    "colab": {
     "base_uri": "https://localhost:8080/"
    },
    "id": "0R8DIwHaf7nc",
    "outputId": "a1ac1a62-db3e-4428-928b-415743d4bdcc"
   },
   "outputs": [
    {
     "name": "stdout",
     "output_type": "stream",
     "text": [
      "/content/TradeMaster\n"
     ]
    }
   ],
   "source": [
    "%cd '/content/TradeMaster'"
   ]
  },
  {
   "cell_type": "code",
   "execution_count": null,
   "metadata": {
    "id": "PvrgwhD3ge_l"
   },
   "outputs": [],
   "source": [
    "!pip install -r requirements.txt"
   ]
  },
  {
   "cell_type": "markdown",
   "metadata": {
    "id": "DbuSrGMug5y5"
   },
   "source": [
    "## Step1: Import Packages"
   ]
  },
  {
   "cell_type": "code",
   "execution_count": null,
   "metadata": {
    "colab": {
     "base_uri": "https://localhost:8080/"
    },
    "id": "8_SkBfP1g9yD",
    "outputId": "e712f8cf-eb9e-43cd-e4ea-72e4a4d58d8d"
   },
   "outputs": [
    {
     "name": "stderr",
     "output_type": "stream",
     "text": [
      "No CUDA runtime is found, using CUDA_HOME='/usr/local/cuda'\n",
      "2023-05-09 15:50:12,657\tINFO worker.py:973 -- Calling ray.init() again after it has already been called.\n"
     ]
    }
   ],
   "source": [
    "import warnings\n",
    "warnings.filterwarnings(\"ignore\")\n",
    "import sys\n",
    "from pathlib import Path\n",
    "import os\n",
    "import torch\n",
    "import pandas as pd\n",
    "import numpy as np\n",
    "from sklearn.model_selection import train_test_split\n",
    "from openfe import OpenFE, transform\n",
    "\n",
    "ROOT = os.path.dirname(os.path.abspath(\".\"))\n",
    "sys.path.append(ROOT)\n",
    "\n",
    "import argparse\n",
    "import os.path as osp\n",
    "from mmcv import Config\n",
    "from trademaster.utils import replace_cfg_vals\n",
    "from trademaster.nets.builder import build_net\n",
    "from trademaster.environments.builder import build_environment\n",
    "from trademaster.datasets.builder import build_dataset\n",
    "from trademaster.agents.builder import build_agent\n",
    "from trademaster.optimizers.builder import build_optimizer\n",
    "from trademaster.losses.builder import build_loss\n",
    "from trademaster.trainers.builder import build_trainer\n",
    "from trademaster.utils import plot\n",
    "from trademaster.utils import set_seed\n",
    "set_seed(2023)"
   ]
  },
  {
   "cell_type": "markdown",
   "metadata": {
    "id": "wfMWNIo7Nxuq"
   },
   "source": [
    "## Step2: Feature Generation"
   ]
  },
  {
   "cell_type": "code",
   "execution_count": null,
   "metadata": {
    "colab": {
     "base_uri": "https://localhost:8080/"
    },
    "id": "qpaJXepGhv-a",
    "outputId": "f478e592-2604-4e7b-ca05-2f54722113c2"
   },
   "outputs": [
    {
     "name": "stdout",
     "output_type": "stream",
     "text": [
      "The number of candidate features is 418\n",
      "Start stage I selection.\n"
     ]
    },
    {
     "name": "stderr",
     "output_type": "stream",
     "text": [
      "100%|██████████| 16/16 [00:13<00:00,  1.20it/s]\n"
     ]
    },
    {
     "name": "stdout",
     "output_type": "stream",
     "text": [
      "35 same features have been deleted.\n",
      "Meet early-stopping in successive feature-wise halving.\n"
     ]
    },
    {
     "name": "stderr",
     "output_type": "stream",
     "text": [
      "100%|██████████| 16/16 [00:41<00:00,  2.57s/it]\n"
     ]
    },
    {
     "name": "stdout",
     "output_type": "stream",
     "text": [
      "The number of remaining candidate features is 352\n",
      "Start stage II selection.\n"
     ]
    },
    {
     "name": "stderr",
     "output_type": "stream",
     "text": [
      "100%|██████████| 16/16 [00:14<00:00,  1.12it/s]\n"
     ]
    },
    {
     "name": "stdout",
     "output_type": "stream",
     "text": [
      "Finish data processing.\n"
     ]
    }
   ],
   "source": [
    "path = 'data/portfolio_management/dj30/'\n",
    "df_train = pd.read_csv(path + \"train.csv\")\n",
    "df_valid = pd.read_csv(path + \"valid.csv\")\n",
    "df_test = pd.read_csv(path + \"test.csv\")\n",
    "tech_indicator_list = [\n",
    "    \"zopen\",\n",
    "    \"zhigh\",\n",
    "    \"zlow\",\n",
    "    \"zadjcp\",\n",
    "    \"zclose\",\n",
    "    \"zd_5\",\n",
    "    \"zd_10\",\n",
    "    \"zd_15\",\n",
    "    \"zd_20\",\n",
    "    \"zd_25\",\n",
    "    \"zd_30\"\n",
    "]\n",
    "\n",
    "train_x = pd.DataFrame(df_train[tech_indicator_list])\n",
    "valid_x = pd.DataFrame(df_valid[tech_indicator_list])\n",
    "test_x = pd.DataFrame(df_test[tech_indicator_list])\n",
    "\n",
    "X = pd.DataFrame(df_train[tech_indicator_list][:-1])\n",
    "Y = pd.DataFrame({\"close\": list(df_train['close'][1:])})\n",
    "\n",
    "n_jobs=4\n",
    "ofe = OpenFE()\n",
    "ofe.fit(data=X, label=Y, n_jobs=n_jobs)\n",
    "train_x, valid_x = transform(train_x, valid_x, ofe.new_features_list[:10], n_jobs=n_jobs) \n",
    "X, test_x = transform(X, test_x, ofe.new_features_list[:10], n_jobs=n_jobs)"
   ]
  },
  {
   "cell_type": "code",
   "execution_count": null,
   "metadata": {
    "id": "FOZDF6DFjnAD"
   },
   "outputs": [],
   "source": [
    "new_df_train = pd.read_csv(path + \"train.csv\", index_col=[0])\n",
    "new_df_valid = pd.read_csv(path + \"valid.csv\", index_col=[0])\n",
    "new_df_test = pd.read_csv(path + \"test.csv\", index_col=[0])\n",
    "\n",
    "new_features = ['autoFE_f_0', 'autoFE_f_1', 'autoFE_f_2',\n",
    "       'autoFE_f_3', 'autoFE_f_4', 'autoFE_f_5', 'autoFE_f_6', 'autoFE_f_7',\n",
    "       'autoFE_f_8', 'autoFE_f_9']\n",
    "\n",
    "new_df_train = pd.merge(new_df_train, train_x[new_features], left_index=True, right_index=True)\n",
    "new_df_train.to_csv(path + \"new_train.csv\", index=True)\n",
    "new_df_valid = pd.merge(new_df_valid, valid_x[new_features], left_index=True, right_index=True)\n",
    "new_df_valid.to_csv(path + \"new_valid.csv\", index=True)\n",
    "new_df_test = pd.merge(new_df_test, test_x[new_features], left_index=True, right_index=True)\n",
    "new_df_test.to_csv(path + \"new_test.csv\", index=True)"
   ]
  },
  {
   "cell_type": "markdown",
   "metadata": {
    "id": "_HsMR-zglMxK"
   },
   "source": [
    "## Step3: Import Configs"
   ]
  },
  {
   "cell_type": "code",
   "execution_count": null,
   "metadata": {
    "id": "6XjpFLjQlTIm"
   },
   "outputs": [],
   "source": [
    "parser = argparse.ArgumentParser(description='Download Alpaca Datasets')\n",
    "parser.add_argument(\"--config\", default=osp.join(ROOT, \"TradeMaster\", \"configs\", \"portfolio_management\", \"portfolio_management_dj30_ppo_ppo_adam_mse_fg.py\"),\n",
    "                    help=\"download datasets config file path\")\n",
    "parser.add_argument(\"--task_name\", type=str, default=\"train\")\n",
    "args, _ = parser.parse_known_args()\n",
    "\n",
    "cfg = Config.fromfile(args.config)\n",
    "task_name = args.task_name\n",
    "cfg = replace_cfg_vals(cfg)"
   ]
  },
  {
   "cell_type": "markdown",
   "metadata": {
    "id": "BTxZqdjQlWwC"
   },
   "source": [
    "## Step4: Build Dataset"
   ]
  },
  {
   "cell_type": "code",
   "execution_count": null,
   "metadata": {
    "id": "GPtJBog1lYqp"
   },
   "outputs": [],
   "source": [
    "dataset = build_dataset(cfg)"
   ]
  },
  {
   "cell_type": "markdown",
   "metadata": {
    "id": "SyGlBeZqlafr"
   },
   "source": [
    "## Step5: Build Trainer"
   ]
  },
  {
   "cell_type": "code",
   "execution_count": null,
   "metadata": {
    "colab": {
     "base_uri": "https://localhost:8080/"
    },
    "id": "1SeD0nw7lePf",
    "outputId": "05d756e6-fc50-4358-f557-f306041938c4"
   },
   "outputs": [
    {
     "name": "stderr",
     "output_type": "stream",
     "text": [
      "2023-05-09 16:00:55,228\tWARNING compression.py:17 -- lz4 not available, disabling sample compression. This will significantly impact RLlib performance. To install lz4, run `pip install lz4`.\n"
     ]
    },
    {
     "name": "stdout",
     "output_type": "stream",
     "text": [
      "| Arguments Keep work_dir: /content/drive/MyDrive/TradeMaster/work_dir/portfolio_management_dj30_ppo_ppo_adam_mse_fg\n"
     ]
    }
   ],
   "source": [
    "device = torch.device('cuda' if torch.cuda.is_available() else 'cpu')\n",
    "work_dir = os.path.join(ROOT, \"TradeMaster\", cfg.trainer.work_dir)\n",
    "\n",
    "if not os.path.exists(work_dir):\n",
    "    os.makedirs(work_dir)\n",
    "cfg.dump(osp.join(work_dir, osp.basename(args.config)))\n",
    "\n",
    "trainer = build_trainer(cfg, default_args=dict(dataset=dataset, device = device))"
   ]
  },
  {
   "cell_type": "markdown",
   "metadata": {
    "id": "UCzsbBm6lhHJ"
   },
   "source": [
    "## Step6: Train and Valid"
   ]
  },
  {
   "cell_type": "code",
   "execution_count": null,
   "metadata": {
    "colab": {
     "base_uri": "https://localhost:8080/"
    },
    "id": "8QyVW9HgljgD",
    "outputId": "c820a96d-2c1f-4f1f-b56d-ef284bd396b4"
   },
   "outputs": [
    {
     "name": "stderr",
     "output_type": "stream",
     "text": [
      "2023-05-09 16:00:56,598\tINFO worker.py:973 -- Calling ray.init() again after it has already been called.\n",
      "2023-05-09 16:00:56,617\tINFO logger.py:188 -- pip install \"ray[tune]\" to see TensorBoard files.\n",
      "2023-05-09 16:00:56,619\tWARNING logger.py:336 -- Could not instantiate TBXLogger: No module named 'tensorboardX'.\n",
      "2023-05-09 16:00:56,624\tINFO trainer.py:2321 -- Executing eagerly (framework='tf2'), with eager_tracing=False. For production workloads, make sure to set eager_tracing=True  in order to match the speed of tf-static-graph (framework='tf'). For debugging purposes, `eager_tracing=False` is the best choice.\n",
      "2023-05-09 16:00:56,634\tINFO trainer.py:903 -- Current log_level is WARN. For more information, set 'log_level': 'INFO' / 'DEBUG' or use the -v and -vv flags.\n",
      "2023-05-09 16:00:57,649\tWARNING env.py:135 -- Your env doesn't have a .spec.max_episode_steps attribute. This is fine if you have set 'horizon' in your config dictionary, or `soft_horizon`. However, if you haven't, 'horizon' will default to infinity, and your environment will not be reset.\n",
      "2023-05-09 16:00:58,684\tWARNING util.py:65 -- Install gputil for GPU system monitoring.\n"
     ]
    },
    {
     "name": "stdout",
     "output_type": "stream",
     "text": [
      "Train Episode: [1/2]\n",
      "+--------------+-------------+------------+--------------+\n",
      "| Total Return | Sharp Ratio | Volatility | Max Drawdown |\n",
      "+--------------+-------------+------------+--------------+\n",
      "| -86.547540%  |  -1.847291  | 0.827679%  |  87.620708%  |\n",
      "+--------------+-------------+------------+--------------+\n"
     ]
    },
    {
     "name": "stderr",
     "output_type": "stream",
     "text": [
      "2023-05-09 16:02:16,054\tWARNING deprecation.py:46 -- DeprecationWarning: `_get_slice_indices` has been deprecated. This will raise an error in the future!\n",
      "2023-05-09 16:02:16,058\tWARNING deprecation.py:46 -- DeprecationWarning: `slice` has been deprecated. Use `SampleBatch[start:stop]` instead. This will raise an error in the future!\n"
     ]
    },
    {
     "name": "stdout",
     "output_type": "stream",
     "text": [
      "Valid Episode: [1/2]\n",
      "+--------------+-------------+------------+--------------+\n",
      "| Total Return | Sharp Ratio | Volatility | Max Drawdown |\n",
      "+--------------+-------------+------------+--------------+\n",
      "|  6.795733%   |   0.364199  | 2.155261%  |  32.487321%  |\n",
      "+--------------+-------------+------------+--------------+\n",
      "Train Episode: [2/2]\n",
      "+--------------+-------------+------------+--------------+\n",
      "| Total Return | Sharp Ratio | Volatility | Max Drawdown |\n",
      "+--------------+-------------+------------+--------------+\n",
      "| -89.195716%  |  -1.997400  | 0.850551%  |  89.898235%  |\n",
      "+--------------+-------------+------------+--------------+\n",
      "+--------------+-------------+------------+--------------+\n",
      "| Total Return | Sharp Ratio | Volatility | Max Drawdown |\n",
      "+--------------+-------------+------------+--------------+\n",
      "| -86.575989%  |  -1.829999  | 0.835840%  |  87.083558%  |\n",
      "+--------------+-------------+------------+--------------+\n",
      "Valid Episode: [2/2]\n",
      "+--------------+-------------+------------+--------------+\n",
      "| Total Return | Sharp Ratio | Volatility | Max Drawdown |\n",
      "+--------------+-------------+------------+--------------+\n",
      "|  7.712679%   |   0.389197  | 2.153141%  |  32.247085%  |\n",
      "+--------------+-------------+------------+--------------+\n"
     ]
    }
   ],
   "source": [
    "import ray\n",
    "from ray.tune.registry import register_env\n",
    "from trademaster.environments.portfolio_management.environment import PortfolioManagementEnvironment\n",
    "def env_creator(env_name):\n",
    "    if env_name == 'portfolio_management':\n",
    "        env = PortfolioManagementEnvironment\n",
    "    else:\n",
    "        raise NotImplementedError\n",
    "    return env\n",
    "ray.init(ignore_reinit_error=True)\n",
    "register_env(\"portfolio_management\", lambda config: env_creator(\"portfolio_management\")(config))\n",
    "trainer.train_and_valid()"
   ]
  },
  {
   "cell_type": "markdown",
   "metadata": {
    "id": "9U0io9pwlq1Q"
   },
   "source": [
    "## Step7: Test"
   ]
  },
  {
   "cell_type": "code",
   "execution_count": null,
   "metadata": {
    "colab": {
     "base_uri": "https://localhost:8080/"
    },
    "id": "w1Sw5ia6lst0",
    "outputId": "c3f33fa6-ff93-4f02-f087-f1c1ff40dc5d"
   },
   "outputs": [
    {
     "name": "stderr",
     "output_type": "stream",
     "text": [
      "2023-05-09 16:06:40,156\tWARNING env.py:135 -- Your env doesn't have a .spec.max_episode_steps attribute. This is fine if you have set 'horizon' in your config dictionary, or `soft_horizon`. However, if you haven't, 'horizon' will default to infinity, and your environment will not be reset.\n",
      "2023-05-09 16:06:40,940\tWARNING util.py:65 -- Install gputil for GPU system monitoring.\n",
      "2023-05-09 16:06:41,025\tWARNING eager_tf_policy.py:724 -- Cannot restore an optimizer's state for tf eager! Keras is not able to save the v1.x optimizers (from tf.compat.v1.train) since they aren't compatible with checkpoints.\n",
      "2023-05-09 16:06:41,565\tINFO trainable.py:588 -- Restored on 172.28.0.12 from checkpoint: /root/ray_results/PPOTrainer_portfolio_management_2023-05-09_16-06-37k1vxwqse/tmptnde9i0zrestore_from_object/checkpoint-2\n",
      "2023-05-09 16:06:41,569\tINFO trainable.py:597 -- Current state after restoring: {'_iteration': 2, '_timesteps_total': None, '_time_total': 313.05774760246277, '_episodes_total': 3}\n"
     ]
    },
    {
     "name": "stdout",
     "output_type": "stream",
     "text": [
      "Test Best Episode\n",
      "+--------------+-------------+------------+--------------+\n",
      "| Total Return | Sharp Ratio | Volatility | Max Drawdown |\n",
      "+--------------+-------------+------------+--------------+\n",
      "|  16.367416%  |   1.381897  | 0.724094%  |  6.696040%   |\n",
      "+--------------+-------------+------------+--------------+\n"
     ]
    },
    {
     "data": {
      "text/plain": [
       "array([ 0.00000000e+00,  3.05970536e-03,  1.31899522e-02,  7.27648248e-03,\n",
       "        1.39758913e-03, -1.03331490e-03,  2.14846361e-03,  1.62698265e-03,\n",
       "       -4.60545304e-04, -6.31885346e-03,  3.28831921e-03,  7.88614397e-03,\n",
       "        6.22040096e-05, -8.51388267e-03, -7.17811191e-04, -4.23127059e-04,\n",
       "       -1.66106080e-02,  9.63072438e-03, -1.89121900e-02,  6.82263723e-03,\n",
       "        1.28993435e-02,  7.38708685e-04,  1.17664077e-02,  4.13381752e-03,\n",
       "        7.45895236e-03, -1.29415441e-03,  1.44970599e-03, -1.11693025e-04,\n",
       "        1.32227505e-03,  3.14629247e-04,  3.56695529e-03, -3.23848260e-03,\n",
       "       -1.33125246e-03,  4.87082169e-04,  8.89492177e-04,  1.18824585e-02,\n",
       "       -1.57107024e-02, -1.53079021e-02,  1.78989222e-02, -4.97593173e-03,\n",
       "       -3.00781952e-03, -1.08432142e-02,  1.88646063e-02,  9.36838398e-03,\n",
       "        1.54327368e-03,  1.35902662e-02,  4.67140772e-03,  7.04713378e-03,\n",
       "        7.48075233e-03, -2.67507102e-03,  3.96961531e-03, -6.89318142e-03,\n",
       "       -7.28553691e-03,  4.77728536e-03, -8.35215590e-03, -8.77986306e-04,\n",
       "        5.66598165e-03,  1.56760512e-02,  3.36420250e-03, -4.61072536e-03,\n",
       "       -1.51825210e-03,  4.58932356e-03,  1.17300969e-02, -2.90726151e-03,\n",
       "        1.12249346e-03, -4.80732519e-05,  6.79862491e-03, -2.71264658e-03,\n",
       "       -2.20915451e-03,  4.76085317e-04,  6.71878833e-03,  4.59442200e-03,\n",
       "       -3.01607940e-03, -6.58085962e-03,  8.88601938e-03, -9.60558443e-03,\n",
       "        3.89283875e-03, -2.19175593e-03, -9.86658888e-04, -3.72400897e-03,\n",
       "        6.44564590e-03, -4.86197229e-03,  6.99024183e-03, -7.79013120e-04,\n",
       "        2.76627867e-03,  8.62836241e-03,  5.72075008e-03, -1.12939754e-03,\n",
       "       -1.25017495e-02, -1.75780501e-02,  1.20962077e-02,  9.73229566e-03,\n",
       "       -1.02037773e-03, -7.58170867e-03, -4.26120136e-03,  5.72094572e-03,\n",
       "        2.14306728e-03,  5.76631181e-03, -3.29298568e-03, -1.00775095e-03,\n",
       "        3.12010226e-03,  1.31894479e-03,  4.64242711e-04,  2.66705259e-03,\n",
       "       -1.48504869e-04,  5.75161177e-03, -3.43401987e-03, -1.24489677e-03,\n",
       "       -3.67085008e-03,  3.19697786e-03,  4.88789433e-04, -2.90401207e-03,\n",
       "       -2.32095658e-03, -7.41330673e-03, -5.60174432e-03, -1.63267857e-02,\n",
       "        1.61832052e-02,  1.37679203e-03, -2.51730947e-03,  8.21129558e-03,\n",
       "        8.04907580e-03, -3.82509535e-03, -7.51865210e-04,  5.39625210e-03,\n",
       "        1.99355415e-03,  3.53428865e-03, -5.84193942e-03,  2.88312324e-03,\n",
       "       -6.83705686e-03,  1.18638277e-02,  2.56605577e-03, -2.18085937e-03,\n",
       "        2.15152553e-03,  2.38168071e-04, -7.79788766e-03, -1.85825981e-02,\n",
       "        1.32304801e-02,  8.13564159e-03, -6.50415318e-04,  4.73309700e-03,\n",
       "        3.75464023e-03, -2.25554544e-03, -3.42421639e-03,  3.70803846e-03,\n",
       "       -3.20779270e-03, -2.88730343e-03,  7.54900707e-03, -9.16299118e-03,\n",
       "        7.48226384e-03,  2.60118715e-03, -2.65559072e-03,  4.65075736e-03,\n",
       "        6.27127481e-03,  9.67032467e-04,  6.12578917e-04,  2.32826690e-03,\n",
       "       -6.17354997e-03, -1.14254182e-02, -2.62370723e-03,  5.54408029e-03,\n",
       "        6.25080824e-03,  5.87147113e-04,  1.40078299e-03, -6.18039586e-03,\n",
       "        6.04291340e-03, -5.72664979e-04,  1.84421012e-04, -1.70474832e-03,\n",
       "        4.22560016e-03, -2.15065831e-03, -7.96253538e-03, -8.48662854e-04,\n",
       "       -4.91859972e-03, -7.19050307e-03,  6.12346253e-03, -8.71186431e-03,\n",
       "        7.26107900e-03, -2.53985960e-03, -5.01937869e-03, -1.58763923e-02,\n",
       "       -1.98758251e-03,  9.25325206e-03,  1.39615752e-02,  5.78912402e-04,\n",
       "        1.37590042e-03, -1.36896406e-02,  3.48025076e-03, -1.44072776e-02,\n",
       "        1.45342167e-02, -7.06568378e-03,  7.04927817e-03,  1.90069289e-03,\n",
       "        8.43241846e-03, -1.04965075e-03, -6.86788046e-03, -4.66309979e-03,\n",
       "       -2.64319108e-04,  1.48165839e-02,  6.94268488e-03, -2.98215873e-03,\n",
       "        6.78706021e-03,  5.73603803e-03, -2.18755633e-03, -1.86273360e-03,\n",
       "        1.18022594e-03, -6.15436448e-04, -7.86939783e-03,  7.61713957e-03,\n",
       "        2.39889135e-03,  3.02519654e-03,  3.95245746e-03,  3.88179470e-03,\n",
       "       -8.49130143e-04,  5.27274908e-03,  1.89921026e-03, -3.59993604e-03,\n",
       "       -4.03241048e-03, -4.56400353e-03,  2.44770614e-03,  5.90766648e-04,\n",
       "       -5.33601873e-04, -6.28899650e-03, -4.49883470e-03, -7.58730716e-03,\n",
       "        2.70639198e-03,  4.93241445e-03, -3.24364862e-04, -2.37401968e-02,\n",
       "        4.79729940e-03, -1.79089330e-02, -1.10785168e-02,  1.69197996e-02,\n",
       "        9.98989909e-04,  1.78714620e-02,  1.19718614e-02,  8.07206994e-04,\n",
       "       -4.26574238e-04,  5.94748842e-03, -6.41418306e-03, -1.55845751e-03,\n",
       "        9.06008811e-03,  2.11448998e-03, -1.18777239e-02, -1.06341222e-02,\n",
       "        1.48906442e-02,  6.01810220e-03,  4.83646275e-03,  8.88457198e-03,\n",
       "        2.87382989e-03,  2.14202388e-03, -2.26165189e-03, -1.55505742e-03])"
      ]
     },
     "execution_count": 16,
     "metadata": {},
     "output_type": "execute_result"
    }
   ],
   "source": [
    "import ray\n",
    "from ray.tune.registry import register_env\n",
    "from trademaster.environments.portfolio_management.environment import PortfolioManagementEnvironment\n",
    "def env_creator(env_name):\n",
    "    if env_name == 'portfolio_management':\n",
    "        env = PortfolioManagementEnvironment\n",
    "    else:\n",
    "        raise NotImplementedError\n",
    "    return env\n",
    "ray.init(ignore_reinit_error=True)\n",
    "register_env(\"portfolio_management\", lambda config: env_creator(\"portfolio_management\")(config))\n",
    "trainer.test()"
   ]
  },
  {
   "cell_type": "code",
   "execution_count": null,
   "metadata": {
    "colab": {
     "base_uri": "https://localhost:8080/",
     "height": 505
    },
    "id": "nDPGa-jblvUb",
    "outputId": "d9ae91ef-7c89-44c7-e73e-1cd037225ec3"
   },
   "outputs": [
    {
     "data": {
      "image/png": "[encoded data removed]",
      "text/plain": [
       "<Figure size 640x480 with 1 Axes>"
      ]
     },
     "metadata": {},
     "output_type": "display_data"
    }
   ],
   "source": [
    "plot(trainer.test_environment.save_asset_memory(),alg=\"PPO\")"
   ]
  }
 ],
 "metadata": {
  "colab": {
   "provenance": []
  },
  "kernelspec": {
   "display_name": "Python 3 (ipykernel)",
   "language": "python",
   "name": "python3"
  },
  "language_info": {
   "codemirror_mode": {
    "name": "ipython",
    "version": 3
   },
   "file_extension": ".py",
   "mimetype": "text/x-python",
   "name": "python",
   "nbconvert_exporter": "python",
   "pygments_lexer": "ipython3",
   "version": "3.9.13"
  }
 },
 "nbformat": 4,
 "nbformat_minor": 4
}
